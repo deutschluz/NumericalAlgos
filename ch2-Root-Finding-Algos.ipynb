{
 "cells": [
  {
   "cell_type": "markdown",
   "metadata": {},
   "source": [
    "# Root Finding: Bisection Method"
   ]
  },
  {
   "cell_type": "code",
   "execution_count": 11,
   "metadata": {},
   "outputs": [
    {
     "name": "stdout",
     "output_type": "stream",
     "text": [
      "after 34 steps, root is 1.324717957264511 with error 5.820766091346741e-11, f(z)= 8.428990838638128e-11\n"
     ]
    }
   ],
   "source": [
    "## bisect.py\n",
    "## bisection method for solving non-linear equations\n",
    "\n",
    "from math import *\n",
    "\n",
    "def bisect(iters,f,a,b):\n",
    "   delta=1e-10\t# tolerance\n",
    "   c=(a+b)/2\n",
    "   if c==a or c==b or abs(a-b)<delta:\n",
    "      return c,b-a,iters \n",
    "   if f(a)*f(c)<0:\n",
    "      return bisect(iters+1,f,a,c)\n",
    "   else:\n",
    "      return bisect(iters+1,f,c,b)\n",
    "   \n",
    "\n",
    "#find root of f in the inverval [a,b]. needs f(a)*f(b)<0\n",
    "def solve(f,a,b):\n",
    " iters=0\n",
    " z,e,iters=bisect(iters,f,a,b)\n",
    " print(\"after {} steps, root is {} with error {}, f(z)= {}\".format(iters,z,e,f(z)))\n",
    "\n",
    "## our function\n",
    "def f(x):\n",
    " return x*x*x-x-1\n",
    "\n",
    "## find zero in [1,2]\n",
    "solve(f,1,2)\n"
   ]
  },
  {
   "cell_type": "code",
   "execution_count": null,
   "metadata": {},
   "outputs": [],
   "source": []
  },
  {
   "cell_type": "markdown",
   "metadata": {},
   "source": [
    "# Regula Falsi"
   ]
  },
  {
   "cell_type": "code",
   "execution_count": 14,
   "metadata": {},
   "outputs": [
    {
     "name": "stdout",
     "output_type": "stream",
     "text": [
      "root is 1.3247179572447458\n"
     ]
    }
   ],
   "source": [
    "def regulafalsi(f,a,b,iters):\n",
    "    def chord(f,a,b):\n",
    "        return (a*f(b) - b*f(a))/(f(b) - f(a))\n",
    "    count=0\n",
    "    while count< iters:\n",
    "        count += 1\n",
    "        x1=chord(f,a,b)\n",
    "        if f(x1)*f(a) < 0:\n",
    "           b=x1\n",
    "        else:\n",
    "            a=x1\n",
    "    return x1\n",
    "\n",
    "def f(x): return x**3 -x-1\n",
    "print(\"root is {}\".format(regulafalsi(f,1,2,100)))"
   ]
  },
  {
   "cell_type": "code",
   "execution_count": null,
   "metadata": {},
   "outputs": [],
   "source": []
  }
 ],
 "metadata": {
  "kernelspec": {
   "display_name": "Python 3",
   "language": "python",
   "name": "python3"
  },
  "language_info": {
   "codemirror_mode": {
    "name": "ipython",
    "version": 3
   },
   "file_extension": ".py",
   "mimetype": "text/x-python",
   "name": "python",
   "nbconvert_exporter": "python",
   "pygments_lexer": "ipython3",
   "version": "3.7.6"
  }
 },
 "nbformat": 4,
 "nbformat_minor": 4
}
